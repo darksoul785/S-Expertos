{
 "cells": [
  {
   "cell_type": "code",
   "execution_count": 8,
   "metadata": {},
   "outputs": [
    {
     "name": "stdout",
     "output_type": "stream",
     "text": [
      "M,Y,A\n",
      "Tu objeto es el objeto obj2\n"
     ]
    }
   ],
   "source": [
    "# LISTAS DE OBJETOS\n",
    "dic = {\n",
    "    'obj1' : [\"A\", \"B\", \"C\"],\n",
    "    'obj2' : [\"A\", \"M\", \"Y\"],\n",
    "    'obj3' : [\"A\", \"B\", \"D\"],\n",
    "    'obj4' : [\"D\", \"X\", \"C\"]\n",
    "\n",
    "}\n",
    "\n",
    "hechos = input(\"Introduce tus hechos, separados por comas\")\n",
    "\n",
    "hechos_split = hechos.split(\",\")\n",
    "print(hechos)\n",
    "\n",
    "for key,value in dic.items():\n",
    "    if (set(value) == set(hechos_split)):\n",
    "        print(\"Tu objeto es el objeto \"+ str(key))\n",
    "\n"
   ]
  }
 ],
 "metadata": {
  "interpreter": {
   "hash": "00e29889a80445b97b9be28b7f519edd513365f28abc99ceff6a05c4bb43b034"
  },
  "kernelspec": {
   "display_name": "Python 3.10.0 64-bit",
   "name": "python3"
  },
  "language_info": {
   "codemirror_mode": {
    "name": "ipython",
    "version": 3
   },
   "file_extension": ".py",
   "mimetype": "text/x-python",
   "name": "python",
   "nbconvert_exporter": "python",
   "pygments_lexer": "ipython3",
   "version": "3.10.0"
  },
  "orig_nbformat": 4
 },
 "nbformat": 4,
 "nbformat_minor": 2
}
