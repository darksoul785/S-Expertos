{
 "cells": [
  {
   "cell_type": "code",
   "execution_count": null,
   "metadata": {},
   "outputs": [],
   "source": []
  },
  {
   "cell_type": "code",
   "execution_count": 1,
   "metadata": {},
   "outputs": [
    {
     "name": "stdout",
     "output_type": "stream",
     "text": [
      "No se encontró ningun objeto :C\n"
     ]
    }
   ],
   "source": [
    "# LISTAS DE OBJETOS\n",
    "dic = {\n",
    "    'obj1' : [\"A\", \"B\", \"C\"],\n",
    "    'obj2' : [\"A\", \"M\", \"Y\"],\n",
    "    'obj3' : [\"A\", \"B\", \"D\"],\n",
    "    'obj4' : [\"D\", \"X\", \"C\"]\n",
    "\n",
    "}\n",
    "\n",
    "\n",
    "count = 0 #contador de coincidencias\n",
    "found = False\n",
    "for key,value in dic.items():\n",
    "    for letter in value:\n",
    "        answer = input(\"Tu objeto tiene \"+ str(letter) + \"?\")\n",
    "        if(answer == \"Y\" or answer == \"y\"):\n",
    "            count += 1\n",
    "        else:\n",
    "            break\n",
    "    if count == 3:\n",
    "        print(\"Tu objeto es:\" + str(key))\n",
    "        found = True\n",
    "        break\n",
    "    else:\n",
    "        count= 0\n",
    "        #found= false\n",
    "\n",
    "if found == False:\n",
    "    print(\"No se encontró ningun objeto :C\")\n",
    "else:\n",
    "    print(\"Se encontró tu objeto :D\")"
   ]
  },
  {
   "cell_type": "code",
   "execution_count": 2,
   "metadata": {},
   "outputs": [
    {
     "name": "stdout",
     "output_type": "stream",
     "text": [
      "{'a', 'b'}\n"
     ]
    }
   ],
   "source": [
    "lista=['a','b','a']\n",
    "print(set(lista))\n"
   ]
  },
  {
   "cell_type": "markdown",
   "metadata": {},
   "source": [
    "TIPO DE DATO SET: INVESTIGAR"
   ]
  }
 ],
 "metadata": {
  "interpreter": {
   "hash": "00e29889a80445b97b9be28b7f519edd513365f28abc99ceff6a05c4bb43b034"
  },
  "kernelspec": {
   "display_name": "Python 3.10.0 64-bit",
   "name": "python3"
  },
  "language_info": {
   "codemirror_mode": {
    "name": "ipython",
    "version": 3
   },
   "file_extension": ".py",
   "mimetype": "text/x-python",
   "name": "python",
   "nbconvert_exporter": "python",
   "pygments_lexer": "ipython3",
   "version": "3.9.10"
  },
  "orig_nbformat": 4
 },
 "nbformat": 4,
 "nbformat_minor": 2
}
